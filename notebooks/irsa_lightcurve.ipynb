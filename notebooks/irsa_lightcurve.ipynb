{
 "cells": [
  {
   "cell_type": "code",
   "execution_count": 1,
   "id": "b1fc0b24",
   "metadata": {},
   "outputs": [
    {
     "name": "stderr",
     "output_type": "stream",
     "text": [
      "/Users/robertstein/Code/ztf_nu_paper_code/nuztfpaper/alerts.py:23: SettingWithCopyWarning: \n",
      "A value is trying to be set on a copy of a slice from a DataFrame\n",
      "\n",
      "See the caveats in the documentation: https://pandas.pydata.org/pandas-docs/stable/user_guide/indexing.html#returning-a-view-versus-a-copy\n",
      "  non[\"Rejection reason\"][mask] = new\n",
      "/Users/robertstein/Code/ztf_nu_paper_code/nuztfpaper/candidates.py:86: SettingWithCopyWarning: \n",
      "A value is trying to be set on a copy of a slice from a DataFrame\n",
      "\n",
      "See the caveats in the documentation: https://pandas.pydata.org/pandas-docs/stable/user_guide/indexing.html#returning-a-view-versus-a-copy\n",
      "  candidates[\"base_class\"][candidates[\"base_class\"] == \"AGN\"] = \"AGN Variability\"\n"
     ]
    }
   ],
   "source": [
    "%matplotlib inline\n",
    "import matplotlib\n",
    "import matplotlib.pyplot as plt\n",
    "import pandas as pd\n",
    "import os\n",
    "import numpy as np\n",
    "from astropy.time import Time\n",
    "from astropy.table import Table\n",
    "from astropy import units as u\n",
    "from astropy import constants as const\n",
    "from astropy.coordinates.name_resolve import NameResolveError\n",
    "from ztfquery.lightcurve import LCQuery\n",
    "from astropy.coordinates import SkyCoord \n",
    "from astropy.cosmology import WMAP9 as cosmo\n",
    "from astropy.io import fits\n",
    "from astropy.table import Table\n",
    "import logging\n",
    "import sys\n",
    "from nuztf.ampel_api import ampel_api_name\n",
    "from nuztf.irsa import plot_irsa_lightcurve\n",
    "from nuztfpaper.style import plot_dir, output_folder\n",
    "from nuztfpaper.candidates import candidates"
   ]
  },
  {
   "cell_type": "code",
   "execution_count": 2,
   "id": "6106d1f4",
   "metadata": {},
   "outputs": [],
   "source": [
    "# Set up logging level\n",
    "for logname in [\"nuztf\", \"nuztfpaper\"]:\n",
    "    logger = logging.getLogger(logname)\n",
    "    # handler = logging.StreamHandler(sys.stdout)\n",
    "    # formatter = logging.Formatter('%(name)s - %(levelname)s - %(message)s')\n",
    "    # handler.setFormatter(formatter)\n",
    "    # logger.addHandler(handler)\n",
    "    logger.setLevel(logging.INFO)"
   ]
  },
  {
   "cell_type": "code",
   "execution_count": 3,
   "id": "72b33c59",
   "metadata": {},
   "outputs": [],
   "source": [
    "sources = candidates[candidates[\"sub_class\"] == \"AGN Flare\"]"
   ]
  },
  {
   "cell_type": "code",
   "execution_count": 4,
   "id": "2b797344",
   "metadata": {},
   "outputs": [],
   "source": [
    "names = [\n",
    "    (\"MCG +00-02-020\", \"IC190922B\"),\n",
    "    (\"WISEA J205314.58+125218.9\", \"IC191001A\"),\n",
    "    (\"ZTF19abexshr\", \"IC191001A\"),\n",
    "    (\"CGCG 67-27\", \"IC200109A\"),\n",
    "    (\"SDSS J105752.69+105037.9\", \"IC200109A\"),\n",
    "    (\"NPM 1G+12.0265\", \"IC200109A\"),\n",
    "    (\"SDSS J104431.98+110105.6\", \"IC200109A\"),\n",
    "    (\"ZTF18aamjqes\", \"IC200530A\"),\n",
    "    (\"WISEA J170539.32+273641.2\", \"IC200530A\"),\n",
    "    (\"WISEA J165707.06+234643.8\", \"IC200530A\"),\n",
    "    (\"ZTF18adbbnry\", \"IC200916A\"),\n",
    "    (\"ZTF20aamoxyt\", \"IC200929A\"),\n",
    "    (\"ZTF18abxrpgu\", \"IC201130A\"),\n",
    "    (\"SDSS J002553.11-091252.1\", \"IC201209A\"),\n",
    "    (\"4C 05.57\", \"IC210210A\"),\n",
    "    (\"SDSS J134034.75+045241.3\", \"IC210210A\"),\n",
    "    (\"WISE J224645.73+122935.7\", \"IC210629A\"),\n",
    "]"
   ]
  },
  {
   "cell_type": "code",
   "execution_count": null,
   "id": "64cca959",
   "metadata": {},
   "outputs": [
    {
     "name": "stdout",
     "output_type": "stream",
     "text": [
      "0 ZTF19acxopgh nan IC200117A ('MCG +00-02-020', 'IC190922B')\n"
     ]
    },
    {
     "name": "stderr",
     "output_type": "stream",
     "text": [
      "INFO:nuztf.irsa:Querying NED to check for a redshift\n",
      "INFO:nuztf.irsa:No redshift found\n",
      "INFO:nuztf.irsa:There are a total of 478 detections for ZTF19acxopgh\n",
      "INFO:nuztf.irsa:Most recent detection on 2021-09-02.50 UT at a magnitude of r=20.88+/-0.27\n",
      "/usr/local/anaconda3/envs/ztf_nu_paper_env/lib/python3.8/site-packages/ztfquery/utils/tools.py:76: VisibleDeprecationWarning: Creating an ndarray from ragged nested sequences (which is a list-or-tuple of lists-or-tuples-or ndarrays with different lengths or shapes) is deprecated. If you meant to do this, you must specify 'dtype=object' when creating the ndarray.\n",
      "  return np.asarray([v[0]*np.cos(theta*_DEG2RA) - v[2]*np.sin(theta*_DEG2RA),\n",
      "INFO:nuztf.irsa:Target in fields [ 615 1660]\n",
      "INFO:nuztf.irsa:Most recent observation at 2021-12-02.37\n"
     ]
    },
    {
     "name": "stdout",
     "output_type": "stream",
     "text": [
      "Found match to IC200117A:  IceCube-200117A: IceCube observation of a high-energy neutrino candidate event<br\n"
     ]
    },
    {
     "name": "stderr",
     "output_type": "stream",
     "text": [
      "INFO:nuztf.irsa:Saving to /Users/robertstein/Code/ztf_nu_paper_code/plots/ZTF19acxopgh_lightcurve_flux.png\n"
     ]
    },
    {
     "name": "stdout",
     "output_type": "stream",
     "text": [
      "1 ZTF18aavecmo WISEA J170539.32+273641.2 IC200530A ('WISEA J205314.58+125218.9', 'IC191001A')\n"
     ]
    }
   ],
   "source": [
    "for i, (_, row) in enumerate(sources.iterrows()):\n",
    "    print(i, row[\"Name\"], row[\"Catalogue Name\"],row[\"neutrino\"], names[i])\n",
    "    \n",
    "    try:\n",
    "        plot_irsa_lightcurve(\n",
    "            row[\"Catalogue Name\"],\n",
    "            nu_name=row[\"neutrino\"],\n",
    "            plot_mag=False,\n",
    "            public_folder=output_folder\n",
    "        )\n",
    "    except (TypeError, NameResolveError) as e:\n",
    "        res = ampel_api_name(row[\"Name\"], with_history=False)[0]\n",
    "        \n",
    "        plot_irsa_lightcurve(\n",
    "            row[\"Name\"],\n",
    "            source_coords=[res[\"candidate\"][\"ra\"], res[\"candidate\"][\"dec\"]],\n",
    "            nu_name=row[\"neutrino\"],\n",
    "            plot_mag=False,\n",
    "            plot_folder=plot_dir,\n",
    "            extra_folder=output_folder\n",
    "        )\n",
    "    \n",
    "    "
   ]
  },
  {
   "cell_type": "code",
   "execution_count": null,
   "id": "473ff70f",
   "metadata": {},
   "outputs": [],
   "source": [
    "literature_candidates = [\n",
    "    (\"PKS 1502+106\", \"IC190730A\"),\n",
    "    (\"BZB J0955+3551\", \"IC200107A\")\n",
    "]"
   ]
  },
  {
   "cell_type": "code",
   "execution_count": null,
   "id": "2999920a",
   "metadata": {},
   "outputs": [],
   "source": [
    "for name, nu in literature_candidates:\n",
    "    plot_irsa_lightcurve(\n",
    "        name,\n",
    "        nu_name=nu,\n",
    "        plot_mag=False,\n",
    "        plot_dir=plot_dir,\n",
    "        extra_folder=output_folder\n",
    "    )"
   ]
  },
  {
   "cell_type": "code",
   "execution_count": null,
   "id": "42e8b35e",
   "metadata": {},
   "outputs": [],
   "source": []
  },
  {
   "cell_type": "code",
   "execution_count": null,
   "id": "05b7210d",
   "metadata": {},
   "outputs": [],
   "source": []
  }
 ],
 "metadata": {
  "kernelspec": {
   "display_name": "ztf_paper_env",
   "language": "python",
   "name": "ztf_paper_env"
  },
  "language_info": {
   "codemirror_mode": {
    "name": "ipython",
    "version": 3
   },
   "file_extension": ".py",
   "mimetype": "text/x-python",
   "name": "python",
   "nbconvert_exporter": "python",
   "pygments_lexer": "ipython3",
   "version": "3.8.11"
  }
 },
 "nbformat": 4,
 "nbformat_minor": 5
}
